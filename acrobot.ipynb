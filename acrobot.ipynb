{
 "cells": [
  {
   "cell_type": "code",
   "execution_count": null,
   "metadata": {},
   "outputs": [],
   "source": [
    "import gymnasium as gym\n",
    "import torch.nn as nn\n",
    "import torch\n",
    "import numpy as np\n",
    "\n",
    "temp_env = gym.make(\"Acrobot-v1\", render_mode='rgb_array')\n",
    "\n",
    "env = gym.wrappers.RecordVideo(env=temp_env, video_folder='content/video/acrobot', name_prefix=\"acrobot\")\n",
    "\n",
    "EPOCHS = 1000\n",
    "\n",
    "env.start_video_recorder()\n",
    "\n",
    "#need to call reset before calling step\n",
    "observation, info = env.reset()\n",
    "\n",
    "def forward(observation, info) -> int:\n",
    "    '''\n",
    "    Makes a forward pass in the neural network\n",
    "    param: observation: observation received from env.reset() or env.step()\n",
    "    param: info: information received from env.reset() or env.step()\n",
    "    returns: action(int): action to be taken\n",
    "    '''\n",
    "    \n",
    "    classnet = nn.Sequential(\n",
    "        nn.Linear(6, 12),\n",
    "        nn.Tanh(),\n",
    "        nn.Linear(12, 6),\n",
    "        nn.Tanh(),\n",
    "        nn.Linear(6, 1)\n",
    "    )\n",
    "    action = classnet(torch.tensor(observation))\n",
    "    return int(action)\n",
    "\n",
    "rew = 0\n",
    "for _ in range(EPOCHS):\n",
    "    action = forward(observation, info)\n",
    "    observation, reward, terminated, truncated, info = env.step(action)\n",
    "\n",
    "    #increase reward in each step for learning\n",
    "    rew += reward\n",
    "\n",
    "    env.render()\n",
    "\n",
    "    if terminated:\n",
    "        observation, info = env.reset()\n",
    "\n",
    "env.close_video_recorder()\n",
    "env.close()"
   ]
  }
 ],
 "metadata": {
  "kernelspec": {
   "display_name": "base",
   "language": "python",
   "name": "python3"
  },
  "language_info": {
   "name": "python",
   "version": "3.11.4"
  }
 },
 "nbformat": 4,
 "nbformat_minor": 2
}
